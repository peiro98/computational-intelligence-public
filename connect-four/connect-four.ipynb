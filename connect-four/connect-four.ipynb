{
 "cells": [
  {
   "cell_type": "markdown",
   "metadata": {},
   "source": [
    "Copyright **`(c)`** 2021 Giovanni Squillero `<squillero@polito.it>`  \n",
    "[`https://github.com/squillero/computational-intelligence`](https://github.com/squillero/computational-intelligence)  \n",
    "Free for personal or classroom use; see 'LICENCE.md' for details."
   ]
  },
  {
   "cell_type": "markdown",
   "metadata": {},
   "source": [
    "# Connect 4"
   ]
  },
  {
   "cell_type": "code",
   "execution_count": 1,
   "metadata": {},
   "outputs": [],
   "source": [
    "from collections import Counter\n",
    "from dataclasses import dataclass\n",
    "from time import perf_counter\n",
    "from tqdm import tqdm\n",
    "import itertools\n",
    "import functools\n",
    "from typing import List\n",
    "\n",
    "from utils import pretty_print_board, counted\n",
    "\n",
    "import numpy as np\n",
    "np.set_printoptions(precision=2)\n"
   ]
  },
  {
   "cell_type": "code",
   "execution_count": 2,
   "metadata": {},
   "outputs": [],
   "source": [
    "NUM_COLUMNS = 7\n",
    "COLUMN_HEIGHT = 6\n",
    "FOUR = 4\n",
    "\n",
    "PLAYER_1 = 1\n",
    "PLAYER_2 = -1\n",
    "\n",
    "# Board can be initiatilized with `board = np.zeros((NUM_COLUMNS, COLUMN_HEIGHT), dtype=np.byte)`\n",
    "# Notez Bien: Connect 4 \"columns\" are actually NumPy \"rows\"\n",
    "\n",
    "# Fix the 'col_height' and 'num_cols' parameters\n",
    "# of pretty_print_board\n",
    "pretty_print_board = functools.partial(pretty_print_board,\n",
    "                                       col_height=COLUMN_HEIGHT,\n",
    "                                       num_cols=NUM_COLUMNS)\n"
   ]
  },
  {
   "cell_type": "markdown",
   "metadata": {},
   "source": [
    "## Basic Functions"
   ]
  },
  {
   "cell_type": "code",
   "execution_count": 3,
   "metadata": {},
   "outputs": [],
   "source": [
    "def valid_moves(board):\n",
    "    \"\"\"Returns columns where a disc may be played\"\"\"\n",
    "    return [n for n in range(NUM_COLUMNS) if board[n, COLUMN_HEIGHT - 1] == 0]\n",
    "\n",
    "\n",
    "def play(board, column, player):\n",
    "    \"\"\"Updates `board` as `player` drops a disc in `column`\"\"\"\n",
    "    (index,) = next((i for i, v in np.ndenumerate(board[column]) if v == 0))\n",
    "    board[column, index] = player\n",
    "\n",
    "\n",
    "def take_back(board, column):\n",
    "    \"\"\"Updates `board` removing top disc from `column`\"\"\"\n",
    "    (index,) = [i for i, v in np.ndenumerate(board[column]) if v != 0][-1]\n",
    "    board[column, index] = 0\n",
    "\n",
    "\n",
    "def four_in_a_row(board, player):\n",
    "    \"\"\"Checks if `player` has a 4-piece line\"\"\"\n",
    "    return (\n",
    "        any(\n",
    "            all(board[c, r] == player)\n",
    "            for c in range(NUM_COLUMNS)\n",
    "            for r in (list(range(n, n + FOUR)) for n in range(COLUMN_HEIGHT - FOUR + 1))\n",
    "        )\n",
    "        or any(\n",
    "            all(board[c, r] == player)\n",
    "            for r in range(COLUMN_HEIGHT)\n",
    "            for c in (list(range(n, n + FOUR)) for n in range(NUM_COLUMNS - FOUR + 1))\n",
    "        )\n",
    "        or any(\n",
    "            np.all(board[diag] == player)\n",
    "            for diag in (\n",
    "                (range(ro, ro + FOUR), range(co, co + FOUR))\n",
    "                for ro in range(0, NUM_COLUMNS - FOUR + 1)\n",
    "                for co in range(0, COLUMN_HEIGHT - FOUR + 1)\n",
    "            )\n",
    "        )\n",
    "        or any(\n",
    "            np.all(board[diag] == player)\n",
    "            for diag in (\n",
    "                (range(ro, ro + FOUR), range(co + FOUR - 1, co - 1, -1))\n",
    "                for ro in range(0, NUM_COLUMNS - FOUR + 1)\n",
    "                for co in range(0, COLUMN_HEIGHT - FOUR + 1)\n",
    "            )\n",
    "        )\n",
    "    )"
   ]
  },
  {
   "cell_type": "markdown",
   "metadata": {},
   "source": [
    "## Montecarlo Evaluation"
   ]
  },
  {
   "cell_type": "code",
   "execution_count": 4,
   "metadata": {},
   "outputs": [],
   "source": [
    "def _mc(board, player):\n",
    "    p = -player\n",
    "    while valid_moves(board):\n",
    "        p = -p\n",
    "        c = np.random.choice(valid_moves(board))\n",
    "        play(board, c, p)\n",
    "        if four_in_a_row(board, p):\n",
    "            return p\n",
    "    return 0\n",
    "\n",
    "\n",
    "def montecarlo(board, player, mc_func):\n",
    "    montecarlo_samples = 100\n",
    "    cnt = Counter(mc_func(np.copy(board), player) for _ in range(montecarlo_samples))\n",
    "    return (cnt[1] - cnt[-1]) / montecarlo_samples\n",
    "\n",
    "\n",
    "def eval_board(board, player, mc_func=_mc):\n",
    "    if four_in_a_row(board, 1):\n",
    "        # Alice won\n",
    "        return 1\n",
    "    elif four_in_a_row(board, -1):\n",
    "        # Bob won\n",
    "        return -1\n",
    "    else:\n",
    "        # Not terminal, let's simulate...\n",
    "        return montecarlo(board, player, mc_func)"
   ]
  },
  {
   "cell_type": "markdown",
   "metadata": {},
   "source": [
    "## Example"
   ]
  },
  {
   "cell_type": "code",
   "execution_count": 5,
   "metadata": {},
   "outputs": [
    {
     "name": "stdout",
     "output_type": "stream",
     "text": [
      "P1: 🟡\tP2: 🔴\n",
      "  ╔════╦════╦════╦════╦════╦════╦════╗\n",
      "5 ║    ║    ║    ║    ║    ║    ║    ║\n",
      "  ╠════╬════╬════╬════╬════╬════╬════╣\n",
      "4 ║    ║    ║    ║    ║    ║    ║    ║\n",
      "  ╠════╬════╬════╬════╬════╬════╬════╣\n",
      "3 ║    ║    ║    ║    ║    ║    ║    ║\n",
      "  ╠════╬════╬════╬════╬════╬════╬════╣\n",
      "2 ║    ║    ║    ║    ║    ║    ║    ║\n",
      "  ╠════╬════╬════╬════╬════╬════╬════╣\n",
      "1 ║ 🔴 ║    ║    ║    ║    ║    ║    ║\n",
      "  ╠════╬════╬════╬════╬════╬════╬════╣\n",
      "0 ║ 🔴 ║    ║    ║ 🟡 ║ 🟡 ║ 🟡 ║    ║\n",
      "  ╚════╩════╩════╩════╩════╩════╩════╝\n",
      "     0    1    2    3    4    5    6   \n"
     ]
    }
   ],
   "source": [
    "board = np.zeros((NUM_COLUMNS, COLUMN_HEIGHT), dtype=np.byte)\n",
    "play(board, 3, PLAYER_1)\n",
    "play(board, 0, PLAYER_2)\n",
    "play(board, 4, PLAYER_1)\n",
    "play(board, 0, PLAYER_2)\n",
    "play(board, 5, PLAYER_1)\n",
    "\n",
    "# eval_board(board, PLAYER_1)\n",
    "pretty_print_board(board)\n"
   ]
  },
  {
   "cell_type": "markdown",
   "metadata": {},
   "source": [
    "## Solution (OLD)"
   ]
  },
  {
   "cell_type": "code",
   "execution_count": 6,
   "metadata": {},
   "outputs": [],
   "source": [
    "def count_by_length(board, player, length):\n",
    "    board = (board == player)\n",
    "\n",
    "    kernel = np.ones(length)\n",
    "    diagspan = COLUMN_HEIGHT - length\n",
    "\n",
    "    sequences = itertools.chain(\n",
    "        # board rows\n",
    "        (row for row in board),\n",
    "        # board columns\n",
    "        (col for col in board.T),\n",
    "        # board diagonals\n",
    "        (np.diag(board, i) for i in range(-diagspan, diagspan + 1)),\n",
    "        # board antidiagonals\n",
    "        (np.diag(np.fliplr(board), i) for i in range(-diagspan, diagspan + 1))\n",
    "    )\n",
    "\n",
    "    return sum(np.sum(np.convolve(kernel, seq) == length) for seq in sequences)\n"
   ]
  },
  {
   "cell_type": "code",
   "execution_count": 7,
   "metadata": {},
   "outputs": [],
   "source": [
    "def best_move(board, player):\n",
    "    scores = []\n",
    "    for col in valid_moves(board):\n",
    "        play(board, col, player)\n",
    "        scores.append(player * eval_board(board, player))\n",
    "        take_back(board, col)\n",
    "\n",
    "    max_score = max(scores)\n",
    "    return scores.index(max_score), max_score\n"
   ]
  },
  {
   "cell_type": "code",
   "execution_count": 8,
   "metadata": {},
   "outputs": [
    {
     "name": "stdout",
     "output_type": "stream",
     "text": [
      "Final state (steps=1): \n",
      "P1: 🟡\tP2: 🔴\n",
      "  ╔════╦════╦════╦════╦════╦════╦════╗\n",
      "5 ║    ║    ║    ║    ║    ║    ║    ║\n",
      "  ╠════╬════╬════╬════╬════╬════╬════╣\n",
      "4 ║    ║    ║    ║    ║    ║    ║    ║\n",
      "  ╠════╬════╬════╬════╬════╬════╬════╣\n",
      "3 ║    ║    ║    ║    ║    ║    ║    ║\n",
      "  ╠════╬════╬════╬════╬════╬════╬════╣\n",
      "2 ║    ║    ║    ║    ║    ║    ║    ║\n",
      "  ╠════╬════╬════╬════╬════╬════╬════╣\n",
      "1 ║ 🔴 ║    ║    ║    ║    ║    ║    ║\n",
      "  ╠════╬════╬════╬════╬════╬════╬════╣\n",
      "0 ║ 🔴 ║    ║ 🟡 ║ 🟡 ║ 🟡 ║ 🟡 ║    ║\n",
      "  ╚════╩════╩════╩════╩════╩════╩════╝\n",
      "     0    1    2    3    4    5    6   \n"
     ]
    }
   ],
   "source": [
    "player = PLAYER_1\n",
    "\n",
    "b = board.copy()\n",
    "# b = np.zeros((NUM_COLUMNS, COLUMN_HEIGHT), dtype=np.byte)\n",
    "steps = 0\n",
    "\n",
    "while not(four_in_a_row(b, PLAYER_1) or four_in_a_row(b, PLAYER_2)):\n",
    "    col, _ = best_move(b, player)\n",
    "    play(b, col, player)\n",
    "\n",
    "    player = player * -1\n",
    "    steps = steps + 1\n",
    "\n",
    "print(f\"Final state (steps={steps}): \")\n",
    "pretty_print_board(b)\n"
   ]
  },
  {
   "cell_type": "markdown",
   "metadata": {},
   "source": [
    "## Minimax"
   ]
  },
  {
   "cell_type": "code",
   "execution_count": 9,
   "metadata": {},
   "outputs": [],
   "source": [
    "def vanilla_min_max(board: np.ndarray, player: int, minimize=True, depth=3, *, score_func):\n",
    "    \"\"\"\n",
    "    This function returns the next best move for the current player\n",
    "\n",
    "    Parameters\n",
    "    ----------\n",
    "    board: array_like\n",
    "        the connect 4 board\n",
    "    player: int\n",
    "        the player who plays next\n",
    "    minimize: boolean\n",
    "        whether the player is a minimizer or a maximizer\n",
    "    depth: int\n",
    "        depth of the minmax search\n",
    "    score_func: function\n",
    "        an (heuristic) function that evaluates the board assigning it a score between 0 and +inf\n",
    "\n",
    "    Returns\n",
    "    -------\n",
    "    int\n",
    "        the suggested next move to play\n",
    "    float\n",
    "        the score resulting from playing the suggested move\n",
    "    \"\"\"\n",
    "    \n",
    "    moves = valid_moves(board)\n",
    "\n",
    "    if count_by_length(board, player, 4):\n",
    "        return None, 1_000_000 // (4 - depth) \n",
    "\n",
    "    if count_by_length(board, -player, 4):\n",
    "        return None, -1_000_000 // (4 - depth) \n",
    "\n",
    "    if depth == 0 or len(moves) == 0:\n",
    "        # return None, score_func(board, player)\n",
    "        return None, score_func(board, player)\n",
    "\n",
    "    # compute the scores for all the possibile moves\n",
    "    scores = []\n",
    "\n",
    "    for move in moves:\n",
    "        # play in the column 'move'\n",
    "        play(board, move, player)\n",
    "\n",
    "        # update the score\n",
    "        _, new_score = vanilla_min_max(board, -player, not minimize, depth - 1, score_func=score_func)\n",
    "\n",
    "        # undo the move\n",
    "        take_back(board, move)\n",
    "\n",
    "        # append the score\n",
    "        # scores.append(0.9 * new_score)\n",
    "        scores.append(new_score)\n",
    "\n",
    "    best_score = min(scores) if minimize else max(scores)\n",
    "    return moves[scores.index(best_score)], best_score        \n"
   ]
  },
  {
   "cell_type": "markdown",
   "metadata": {},
   "source": [
    "### Alpha-beta pruning"
   ]
  },
  {
   "cell_type": "code",
   "execution_count": 10,
   "metadata": {},
   "outputs": [],
   "source": [
    "# alpha and beta respectively represent the minimum score that the \n",
    "# maximizing player is assured of and the maximum score \n",
    "# that the minimizing player is assured of.\n",
    "\n",
    "def alphabeta(board, player, minimizer=True, depth=3, alpha=-np.inf, beta=np.inf, *, score_func):\n",
    "    \"\"\"\n",
    "    This function returns the next best move for the current player\n",
    "    \"\"\"\n",
    "    \n",
    "    moves = valid_moves(board)\n",
    "    \n",
    "    if count_by_length(board, player, 4):\n",
    "        return None, 1_000_000 // (4 - depth)\n",
    "\n",
    "    if count_by_length(board, -player, 4):\n",
    "        return None, -1_000_000 // (4 - depth)\n",
    "\n",
    "    if depth == 0 or len(moves) == 0:\n",
    "        # return None, score_func(board, player)\n",
    "        return None, score_func(board, player)\n",
    "\n",
    "    # The maximizer starts from best_score = -inf\n",
    "    # and it is assured that the minimum value it can encounter is alpha.\n",
    "    # On the other side, the minimizer starts from\n",
    "    # best_score = inf and it is assured that the maximum value\n",
    "    # it can encouter is beta\n",
    "    best_move, best_score = None, np.inf if minimizer else -np.inf\n",
    "\n",
    "    for move in moves:\n",
    "        # play in the column 'move'\n",
    "        play(board, move, player)\n",
    "\n",
    "        # update the score\n",
    "        _, new_score = alphabeta(board, -player, not minimizer, depth - 1, alpha, beta, score_func=score_func)\n",
    "\n",
    "        # scale a bit the score so that late outcomes are less preferable\n",
    "        # new_score *= 0.9 \n",
    "\n",
    "        take_back(board, move)\n",
    "\n",
    "        if minimizer:\n",
    "            if new_score < best_score:\n",
    "                # better score found\n",
    "                best_move, best_score = move, new_score\n",
    "            \n",
    "            beta = min(beta, best_score)\n",
    "            if new_score < alpha:\n",
    "                break # no need to go further\n",
    "        else:\n",
    "            # maxmizer\n",
    "            if new_score > best_score:\n",
    "                # better score found\n",
    "                best_move, best_score = move, new_score\n",
    "            \n",
    "            alpha = max(alpha, best_score)\n",
    "            if new_score > beta:\n",
    "                break # no need to go further\n",
    "\n",
    "    return best_move, best_score\n",
    "        "
   ]
  },
  {
   "cell_type": "code",
   "execution_count": 11,
   "metadata": {},
   "outputs": [],
   "source": [
    "def build_dict(depth, values=[]):\n",
    "    if depth == 0:\n",
    "        array = np.array(values, dtype=np.byte)\n",
    "        ones = np.ones(4, dtype=np.byte)\n",
    "\n",
    "        return {\n",
    "            player:{\n",
    "                1: tuple(np.argwhere(np.convolve(player * ones[:1], array, mode='valid') == 1).flatten()),\n",
    "                2: tuple(np.argwhere(np.convolve(player * ones[:2], array, mode='valid') == 2).flatten()),\n",
    "                3: tuple(np.argwhere(np.convolve(player * ones[:3], array, mode='valid') == 3).flatten()),\n",
    "                4: tuple(np.argwhere(np.convolve(player * ones[:4], array, mode='valid') == 4).flatten()),\n",
    "            } for player in [-1, 1]\n",
    "        }\n",
    "\n",
    "    return {\n",
    "        n: build_dict(depth-1, values + [n]) for n in [-1, 0, 1]\n",
    "    }\n"
   ]
  },
  {
   "cell_type": "code",
   "execution_count": 12,
   "metadata": {},
   "outputs": [],
   "source": [
    "dict = build_dict(7)\n",
    "\n",
    "def fast_convolve(row):\n",
    "    _state = dict\n",
    "    for digit in row:\n",
    "        _state = _state[digit]\n",
    "\n",
    "    for _ in range(7 - row.size):\n",
    "        _state = _state[0]\n",
    "\n",
    "    return _state"
   ]
  },
  {
   "cell_type": "markdown",
   "metadata": {},
   "source": [
    "## Sequences extraction"
   ]
  },
  {
   "cell_type": "code",
   "execution_count": 13,
   "metadata": {},
   "outputs": [],
   "source": [
    "@dataclass\n",
    "class Sequence:\n",
    "    board: np.ndarray\n",
    "    start: int\n",
    "    step: int\n",
    "    length: int\n",
    "\n",
    "    def __len__(self):\n",
    "        return self.length\n",
    "\n",
    "\n",
    "def compute_sequences(board: np.ndarray, player) -> List[Sequence]:\n",
    "    diagspan = COLUMN_HEIGHT - 2\n",
    "\n",
    "    sequences = itertools.chain(\n",
    "        (((ncol, 0), (0, 1), col) for ncol, col in enumerate(board)),\n",
    "        (((0, nrow), (1, 0), row) for nrow, row in enumerate(board.T)),\n",
    "        (((max(-ndiag, 0), max(ndiag, 0)), (1, 1), np.diag(board, ndiag))\n",
    "         for ndiag in range(-diagspan, diagspan)),\n",
    "        # board antidiagonals\n",
    "        (((max(-ndiag, 0), min(COLUMN_HEIGHT - 1, COLUMN_HEIGHT - 1 - ndiag)), (1, -1),\n",
    "         np.diag(np.fliplr(board), ndiag)) for ndiag in range(-diagspan, diagspan))\n",
    "    )\n",
    "\n",
    "    r = []\n",
    "    for start, step, sequence in sequences:\n",
    "        # indices = np.argwhere(np.convolve(kernel, sequence, mode='valid') == length)\n",
    "        r += [\n",
    "            Sequence(board, np.array(start) + index * np.array(step),\n",
    "                     np.array(step), length)\n",
    "            for length, indices in fast_convolve(sequence)[player].items()\n",
    "            for index in indices\n",
    "        ]\n",
    "\n",
    "    return r\n"
   ]
  },
  {
   "cell_type": "markdown",
   "metadata": {},
   "source": [
    "## Heuristic eval"
   ]
  },
  {
   "cell_type": "code",
   "execution_count": 14,
   "metadata": {},
   "outputs": [],
   "source": [
    "def heuristic_eval(board, player):\n",
    "    \"\"\"\n",
    "    Compute an heuristic score of the board assuming\n",
    "    the player is about to play\n",
    "    \"\"\"\n",
    "    WIN = 1_000_000\n",
    "\n",
    "    # check if the position is valid\n",
    "    def is_valid(a, b): return 0 <= a < NUM_COLUMNS and 0 <= b < COLUMN_HEIGHT\n",
    "\n",
    "    def is_free(a, b): return board[a, b] == 0\n",
    "    def empty_below(a, b): return 0 if b == 0 else (board[a, :b] == 0).sum()\n",
    "\n",
    "    # player\n",
    "    player_score = 0\n",
    "    for sequence in compute_sequences(board, player):\n",
    "        # evaluate the sequence\n",
    "\n",
    "        if len(sequence) == 4:\n",
    "            # the player wins (return a big number)\n",
    "            return WIN\n",
    "\n",
    "        for nsteps in [-1, len(sequence)]:\n",
    "            # take a step in one direction\n",
    "            candidate = sequence.start + nsteps * sequence.step\n",
    "\n",
    "            if is_valid(*candidate) and is_free(*candidate):\n",
    "                # the position is valid and empty\n",
    "\n",
    "                new_length = len(sequence) + 1\n",
    "\n",
    "                # look a few steps ahead on the same direction\n",
    "                # maybe filling this cell could join sequences\n",
    "                for steps_ahead in range(2, 4 - new_length + 2):\n",
    "                    a, b = candidate + steps_ahead * \\\n",
    "                        np.sign(nsteps) * sequence.step\n",
    "\n",
    "                    if not is_valid(a, b) or not board[a, b] == player:\n",
    "                        break\n",
    "                    new_length += 1\n",
    "\n",
    "                if new_length == 4 and empty_below(*candidate) == 0:\n",
    "                    # current sequence has length 3 and can be extended\n",
    "                    return WIN\n",
    "                else:\n",
    "                    player_score += new_length * \\\n",
    "                        (new_length - empty_below(*candidate))\n",
    "\n",
    "    return player_score\n"
   ]
  },
  {
   "cell_type": "markdown",
   "metadata": {},
   "source": [
    "## Evaluation"
   ]
  },
  {
   "cell_type": "code",
   "execution_count": 15,
   "metadata": {},
   "outputs": [],
   "source": [
    "def play_game(initial_board, initial_player, player_func, opponent_func, verbose=False, return_board=False):\n",
    "    player = initial_player\n",
    "\n",
    "    board = initial_board.copy()\n",
    "    steps = 0\n",
    "\n",
    "    while not(four_in_a_row(board, PLAYER_1) or four_in_a_row(board, PLAYER_2)):\n",
    "        if player == initial_player:\n",
    "            move = player_func(board)\n",
    "        else:\n",
    "            move = opponent_func(board)\n",
    "\n",
    "        if move is None:\n",
    "            break\n",
    "\n",
    "        play(board, move, player)\n",
    "\n",
    "        if verbose:\n",
    "            print(f\"Player {player} played {move}\")\n",
    "            pretty_print_board(board)\n",
    "            print()\n",
    "\n",
    "        player = player * -1\n",
    "        steps = steps + 1\n",
    "\n",
    "    winner = 0\n",
    "    if count_by_length(board, -initial_player, 4):\n",
    "        winner = -initial_player\n",
    "    elif count_by_length(board, initial_player, 4):\n",
    "        winner = initial_player\n",
    "\n",
    "    if return_board:\n",
    "        return winner, board\n",
    "    return winner\n"
   ]
  },
  {
   "cell_type": "code",
   "execution_count": 16,
   "metadata": {},
   "outputs": [],
   "source": [
    "def run_simulation(game_function, runs, player):\n",
    "    print(f\"Performing {runs} simulations...\")\n",
    "\n",
    "    simulation_results = {player: 0, -player: 0, 0: 0}\n",
    "\n",
    "    start_time = perf_counter()\n",
    "\n",
    "    for _ in tqdm(range(runs)):\n",
    "        simulation_results[game_function()] += 1\n",
    "\n",
    "    elapsed_time = perf_counter() - start_time\n",
    "\n",
    "    wins_perc = 100 * (simulation_results[player] / runs)\n",
    "    draw_perc = 100 * (simulation_results[0] / runs)\n",
    "\n",
    "    print(f\"Simulations completed in {elapsed_time:.6f} seconds!\")\n",
    "    print(f\"Wins={wins_perc:.2f}, Draws={draw_perc:.2f}\")\n"
   ]
  },
  {
   "cell_type": "code",
   "execution_count": 17,
   "metadata": {},
   "outputs": [
    {
     "name": "stdout",
     "output_type": "stream",
     "text": [
      "1 wins! (n. of calls to the board evaluation function: 1917)\n",
      "P1: 🟡\tP2: 🔴\n",
      "  ╔════╦════╦════╦════╦════╦════╦════╗\n",
      "5 ║    ║    ║    ║    ║    ║    ║    ║\n",
      "  ╠════╬════╬════╬════╬════╬════╬════╣\n",
      "4 ║    ║    ║    ║ 🟡 ║ 🟡 ║    ║    ║\n",
      "  ╠════╬════╬════╬════╬════╬════╬════╣\n",
      "3 ║    ║    ║    ║ 🟡 ║ 🔴 ║    ║    ║\n",
      "  ╠════╬════╬════╬════╬════╬════╬════╣\n",
      "2 ║    ║ 🔴 ║    ║ 🟡 ║ 🔴 ║ 🟡 ║    ║\n",
      "  ╠════╬════╬════╬════╬════╬════╬════╣\n",
      "1 ║ 🔴 ║ 🔴 ║    ║ 🟡 ║ 🟡 ║ 🔴 ║    ║\n",
      "  ╠════╬════╬════╬════╬════╬════╬════╣\n",
      "0 ║ 🟡 ║ 🔴 ║    ║ 🔴 ║ 🟡 ║ 🟡 ║ 🔴 ║\n",
      "  ╚════╩════╩════╩════╩════╩════╩════╝\n",
      "     0    1    2    3    4    5    6   \n"
     ]
    }
   ],
   "source": [
    "board_evaluation_function = counted(heuristic_eval)\n",
    "\n",
    "# reinitialize the random seed\n",
    "np.random.seed(1234)\n",
    "\n",
    "# initial board\n",
    "board = np.zeros((NUM_COLUMNS, COLUMN_HEIGHT), dtype=np.byte)\n",
    "# initial player\n",
    "player = PLAYER_1\n",
    "\n",
    "# player function\n",
    "# player_func = lambda board: vanilla_min_max(board, player, depth=4, score_func=board_evaluation_function)[0]\n",
    "player_func = lambda board: alphabeta(board, player, depth=3, score_func=board_evaluation_function)[0]\n",
    "\n",
    "# opponent function\n",
    "opponent_func = lambda board: np.random.choice(valid_moves(board))\n",
    "\n",
    "# run a game\n",
    "winner, final_board = play_game(board, player, player_func, opponent_func, return_board=True)\n",
    "\n",
    "print(f\"{winner} wins! (n. of calls to the board evaluation function: {board_evaluation_function.calls})\")\n",
    "pretty_print_board(final_board)\n"
   ]
  },
  {
   "cell_type": "code",
   "execution_count": 18,
   "metadata": {},
   "outputs": [
    {
     "name": "stdout",
     "output_type": "stream",
     "text": [
      "Performing 100 simulations...\n"
     ]
    },
    {
     "name": "stderr",
     "output_type": "stream",
     "text": [
      "100%|██████████| 100/100 [02:49<00:00,  1.70s/it]"
     ]
    },
    {
     "name": "stdout",
     "output_type": "stream",
     "text": [
      "Simulations completed in 169.539023 seconds!\n",
      "Wins=100.00, Draws=0.00\n"
     ]
    },
    {
     "name": "stderr",
     "output_type": "stream",
     "text": [
      "\n"
     ]
    }
   ],
   "source": [
    "# run a batch of simulations\n",
    "run_simulation(\n",
    "    lambda: play_game(board, player, player_func, opponent_func),\n",
    "    100, # number of simulations to perform\n",
    "    player # initial player\n",
    ")"
   ]
  }
 ],
 "metadata": {
  "interpreter": {
   "hash": "371627151b0642f6c185c280fa16312776bda89bbb063ce0f2d8135c657194f4"
  },
  "kernelspec": {
   "display_name": "Python 3.8.2 64-bit ('ci2021': conda)",
   "name": "python3"
  },
  "language_info": {
   "codemirror_mode": {
    "name": "ipython",
    "version": 3
   },
   "file_extension": ".py",
   "mimetype": "text/x-python",
   "name": "python",
   "nbconvert_exporter": "python",
   "pygments_lexer": "ipython3",
   "version": "3.9.8"
  },
  "orig_nbformat": 4
 },
 "nbformat": 4,
 "nbformat_minor": 2
}
